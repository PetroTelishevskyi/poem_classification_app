{
  "nbformat": 4,
  "nbformat_minor": 0,
  "metadata": {
    "colab": {
      "name": "Untitled7.ipynb",
      "provenance": [],
      "collapsed_sections": []
    },
    "kernelspec": {
      "name": "python3",
      "display_name": "Python 3"
    },
    "language_info": {
      "name": "python"
    }
  },
  "cells": [
    {
      "cell_type": "code",
      "metadata": {
        "id": "upQuNFXxfFu4"
      },
      "source": [
        "import pandas as pd"
      ],
      "execution_count": null,
      "outputs": []
    },
    {
      "cell_type": "code",
      "metadata": {
        "id": "orXqUekBfX79"
      },
      "source": [
        "df = pd.read_csv('data_poems.csv')\n",
        "df = df.drop('Unnamed: 0', axis =1)"
      ],
      "execution_count": null,
      "outputs": []
    },
    {
      "cell_type": "code",
      "metadata": {
        "id": "uYu36oABfz-0",
        "colab": {
          "base_uri": "https://localhost:8080/"
        },
        "outputId": "9740a351-1a39-42d0-a8c6-9418c7edb13d"
      },
      "source": [
        "\n",
        "df['type'].value_counts()"
      ],
      "execution_count": null,
      "outputs": [
        {
          "output_type": "execute_result",
          "data": {
            "text/plain": [
              "Nature    1292\n",
              "Love      1267\n",
              "Death      586\n",
              "Name: type, dtype: int64"
            ]
          },
          "metadata": {
            "tags": []
          },
          "execution_count": 360
        }
      ]
    },
    {
      "cell_type": "code",
      "metadata": {
        "colab": {
          "base_uri": "https://localhost:8080/"
        },
        "id": "_fHmG231g3bR",
        "outputId": "e1a5ecd1-fa3e-4ffd-c5ed-31cfd40513c8"
      },
      "source": [
        "import string\n",
        "import re\n",
        "import nltk\n",
        "from nltk.corpus import stopwords\n",
        "from textblob import Word\n",
        "nltk.download('stopwords')\n",
        "nltk.download('wordnet')\n",
        "nltk.download('punkt')\n",
        "stop_words = stopwords.words('english')"
      ],
      "execution_count": null,
      "outputs": [
        {
          "output_type": "stream",
          "text": [
            "[nltk_data] Downloading package stopwords to /root/nltk_data...\n",
            "[nltk_data]   Package stopwords is already up-to-date!\n",
            "[nltk_data] Downloading package wordnet to /root/nltk_data...\n",
            "[nltk_data]   Package wordnet is already up-to-date!\n",
            "[nltk_data] Downloading package punkt to /root/nltk_data...\n",
            "[nltk_data]   Package punkt is already up-to-date!\n"
          ],
          "name": "stdout"
        }
      ]
    },
    {
      "cell_type": "code",
      "metadata": {
        "colab": {
          "base_uri": "https://localhost:8080/",
          "height": 398
        },
        "id": "6uzes0LYhLT2",
        "outputId": "8398264f-cc34-4d9a-884a-84f852c26538"
      },
      "source": [
        "df['content'] = df['content'].apply(lambda x: str(x))\n",
        "df"
      ],
      "execution_count": null,
      "outputs": [
        {
          "output_type": "execute_result",
          "data": {
            "text/html": [
              "<div>\n",
              "<style scoped>\n",
              "    .dataframe tbody tr th:only-of-type {\n",
              "        vertical-align: middle;\n",
              "    }\n",
              "\n",
              "    .dataframe tbody tr th {\n",
              "        vertical-align: top;\n",
              "    }\n",
              "\n",
              "    .dataframe thead th {\n",
              "        text-align: right;\n",
              "    }\n",
              "</style>\n",
              "<table border=\"1\" class=\"dataframe\">\n",
              "  <thead>\n",
              "    <tr style=\"text-align: right;\">\n",
              "      <th></th>\n",
              "      <th>content</th>\n",
              "      <th>type</th>\n",
              "    </tr>\n",
              "  </thead>\n",
              "  <tbody>\n",
              "    <tr>\n",
              "      <th>0</th>\n",
              "      <td>didst thou promise beauteous day make travel ...</td>\n",
              "      <td>Nature</td>\n",
              "    </tr>\n",
              "    <tr>\n",
              "      <th>1</th>\n",
              "      <td>welcome sun sea freake returned cheereth beam...</td>\n",
              "      <td>Nature</td>\n",
              "    </tr>\n",
              "    <tr>\n",
              "      <th>2</th>\n",
              "      <td>met courtier riding plain wellmounted brave g...</td>\n",
              "      <td>Nature</td>\n",
              "    </tr>\n",
              "    <tr>\n",
              "      <th>3</th>\n",
              "      <td>walking field wantcatcher spied went desirous...</td>\n",
              "      <td>Nature</td>\n",
              "    </tr>\n",
              "    <tr>\n",
              "      <th>4</th>\n",
              "      <td>fishing fisher may protest pleasure sweetest ...</td>\n",
              "      <td>Nature</td>\n",
              "    </tr>\n",
              "    <tr>\n",
              "      <th>...</th>\n",
              "      <td>...</td>\n",
              "      <td>...</td>\n",
              "    </tr>\n",
              "    <tr>\n",
              "      <th>3140</th>\n",
              "      <td>believein death sureof thisit loved memoon su...</td>\n",
              "      <td>Love</td>\n",
              "    </tr>\n",
              "    <tr>\n",
              "      <th>3141</th>\n",
              "      <td>god let body befrom brave eye shall sprout tr...</td>\n",
              "      <td>Love</td>\n",
              "    </tr>\n",
              "    <tr>\n",
              "      <th>3142</th>\n",
              "      <td>thee praise river whose white voice pas upon ...</td>\n",
              "      <td>Love</td>\n",
              "    </tr>\n",
              "    <tr>\n",
              "      <th>3143</th>\n",
              "      <td>consider owoman thismy body lainwith empty ar...</td>\n",
              "      <td>Love</td>\n",
              "    </tr>\n",
              "    <tr>\n",
              "      <th>3144</th>\n",
              "      <td>green went love ridingon great horse goldinto...</td>\n",
              "      <td>Love</td>\n",
              "    </tr>\n",
              "  </tbody>\n",
              "</table>\n",
              "<p>3145 rows × 2 columns</p>\n",
              "</div>"
            ],
            "text/plain": [
              "                                                content    type\n",
              "0      didst thou promise beauteous day make travel ...  Nature\n",
              "1      welcome sun sea freake returned cheereth beam...  Nature\n",
              "2      met courtier riding plain wellmounted brave g...  Nature\n",
              "3      walking field wantcatcher spied went desirous...  Nature\n",
              "4      fishing fisher may protest pleasure sweetest ...  Nature\n",
              "...                                                 ...     ...\n",
              "3140   believein death sureof thisit loved memoon su...    Love\n",
              "3141   god let body befrom brave eye shall sprout tr...    Love\n",
              "3142   thee praise river whose white voice pas upon ...    Love\n",
              "3143   consider owoman thismy body lainwith empty ar...    Love\n",
              "3144   green went love ridingon great horse goldinto...    Love\n",
              "\n",
              "[3145 rows x 2 columns]"
            ]
          },
          "metadata": {
            "tags": []
          },
          "execution_count": 363
        }
      ]
    },
    {
      "cell_type": "code",
      "metadata": {
        "colab": {
          "base_uri": "https://localhost:8080/",
          "height": 398
        },
        "id": "cC7BFUc7hYQ2",
        "outputId": "33480dc9-3056-4e96-ce01-b2849e332912"
      },
      "source": [
        "df['content'] = df['content'].apply(lambda x: ' '.join(re.sub(r\"^\\r\\n\",\" \",x.lower()).split()))\n",
        "df"
      ],
      "execution_count": null,
      "outputs": [
        {
          "output_type": "execute_result",
          "data": {
            "text/html": [
              "<div>\n",
              "<style scoped>\n",
              "    .dataframe tbody tr th:only-of-type {\n",
              "        vertical-align: middle;\n",
              "    }\n",
              "\n",
              "    .dataframe tbody tr th {\n",
              "        vertical-align: top;\n",
              "    }\n",
              "\n",
              "    .dataframe thead th {\n",
              "        text-align: right;\n",
              "    }\n",
              "</style>\n",
              "<table border=\"1\" class=\"dataframe\">\n",
              "  <thead>\n",
              "    <tr style=\"text-align: right;\">\n",
              "      <th></th>\n",
              "      <th>content</th>\n",
              "      <th>type</th>\n",
              "    </tr>\n",
              "  </thead>\n",
              "  <tbody>\n",
              "    <tr>\n",
              "      <th>0</th>\n",
              "      <td>didst thou promise beauteous day make travel f...</td>\n",
              "      <td>Nature</td>\n",
              "    </tr>\n",
              "    <tr>\n",
              "      <th>1</th>\n",
              "      <td>welcome sun sea freake returned cheereth beam ...</td>\n",
              "      <td>Nature</td>\n",
              "    </tr>\n",
              "    <tr>\n",
              "      <th>2</th>\n",
              "      <td>met courtier riding plain wellmounted brave ga...</td>\n",
              "      <td>Nature</td>\n",
              "    </tr>\n",
              "    <tr>\n",
              "      <th>3</th>\n",
              "      <td>walking field wantcatcher spied went desirous ...</td>\n",
              "      <td>Nature</td>\n",
              "    </tr>\n",
              "    <tr>\n",
              "      <th>4</th>\n",
              "      <td>fishing fisher may protest pleasure sweetest s...</td>\n",
              "      <td>Nature</td>\n",
              "    </tr>\n",
              "    <tr>\n",
              "      <th>...</th>\n",
              "      <td>...</td>\n",
              "      <td>...</td>\n",
              "    </tr>\n",
              "    <tr>\n",
              "      <th>3140</th>\n",
              "      <td>believein death sureof thisit loved memoon sun...</td>\n",
              "      <td>Love</td>\n",
              "    </tr>\n",
              "    <tr>\n",
              "      <th>3141</th>\n",
              "      <td>god let body befrom brave eye shall sprout tre...</td>\n",
              "      <td>Love</td>\n",
              "    </tr>\n",
              "    <tr>\n",
              "      <th>3142</th>\n",
              "      <td>thee praise river whose white voice pas upon f...</td>\n",
              "      <td>Love</td>\n",
              "    </tr>\n",
              "    <tr>\n",
              "      <th>3143</th>\n",
              "      <td>consider owoman thismy body lainwith empty arm...</td>\n",
              "      <td>Love</td>\n",
              "    </tr>\n",
              "    <tr>\n",
              "      <th>3144</th>\n",
              "      <td>green went love ridingon great horse goldinto ...</td>\n",
              "      <td>Love</td>\n",
              "    </tr>\n",
              "  </tbody>\n",
              "</table>\n",
              "<p>3145 rows × 2 columns</p>\n",
              "</div>"
            ],
            "text/plain": [
              "                                                content    type\n",
              "0     didst thou promise beauteous day make travel f...  Nature\n",
              "1     welcome sun sea freake returned cheereth beam ...  Nature\n",
              "2     met courtier riding plain wellmounted brave ga...  Nature\n",
              "3     walking field wantcatcher spied went desirous ...  Nature\n",
              "4     fishing fisher may protest pleasure sweetest s...  Nature\n",
              "...                                                 ...     ...\n",
              "3140  believein death sureof thisit loved memoon sun...    Love\n",
              "3141  god let body befrom brave eye shall sprout tre...    Love\n",
              "3142  thee praise river whose white voice pas upon f...    Love\n",
              "3143  consider owoman thismy body lainwith empty arm...    Love\n",
              "3144  green went love ridingon great horse goldinto ...    Love\n",
              "\n",
              "[3145 rows x 2 columns]"
            ]
          },
          "metadata": {
            "tags": []
          },
          "execution_count": 364
        }
      ]
    },
    {
      "cell_type": "code",
      "metadata": {
        "colab": {
          "base_uri": "https://localhost:8080/",
          "height": 398
        },
        "id": "bHzVlI_ohpqe",
        "outputId": "6d57aea8-f730-4f6b-c6fd-1ffa589e9d1b"
      },
      "source": [
        "df['content'] = df['content'].apply(lambda x: x.translate(str.maketrans('','', string.punctuation)))\n",
        "df"
      ],
      "execution_count": null,
      "outputs": [
        {
          "output_type": "execute_result",
          "data": {
            "text/html": [
              "<div>\n",
              "<style scoped>\n",
              "    .dataframe tbody tr th:only-of-type {\n",
              "        vertical-align: middle;\n",
              "    }\n",
              "\n",
              "    .dataframe tbody tr th {\n",
              "        vertical-align: top;\n",
              "    }\n",
              "\n",
              "    .dataframe thead th {\n",
              "        text-align: right;\n",
              "    }\n",
              "</style>\n",
              "<table border=\"1\" class=\"dataframe\">\n",
              "  <thead>\n",
              "    <tr style=\"text-align: right;\">\n",
              "      <th></th>\n",
              "      <th>content</th>\n",
              "      <th>type</th>\n",
              "    </tr>\n",
              "  </thead>\n",
              "  <tbody>\n",
              "    <tr>\n",
              "      <th>0</th>\n",
              "      <td>didst thou promise beauteous day make travel f...</td>\n",
              "      <td>Nature</td>\n",
              "    </tr>\n",
              "    <tr>\n",
              "      <th>1</th>\n",
              "      <td>welcome sun sea freake returned cheereth beam ...</td>\n",
              "      <td>Nature</td>\n",
              "    </tr>\n",
              "    <tr>\n",
              "      <th>2</th>\n",
              "      <td>met courtier riding plain wellmounted brave ga...</td>\n",
              "      <td>Nature</td>\n",
              "    </tr>\n",
              "    <tr>\n",
              "      <th>3</th>\n",
              "      <td>walking field wantcatcher spied went desirous ...</td>\n",
              "      <td>Nature</td>\n",
              "    </tr>\n",
              "    <tr>\n",
              "      <th>4</th>\n",
              "      <td>fishing fisher may protest pleasure sweetest s...</td>\n",
              "      <td>Nature</td>\n",
              "    </tr>\n",
              "    <tr>\n",
              "      <th>...</th>\n",
              "      <td>...</td>\n",
              "      <td>...</td>\n",
              "    </tr>\n",
              "    <tr>\n",
              "      <th>3140</th>\n",
              "      <td>believein death sureof thisit loved memoon sun...</td>\n",
              "      <td>Love</td>\n",
              "    </tr>\n",
              "    <tr>\n",
              "      <th>3141</th>\n",
              "      <td>god let body befrom brave eye shall sprout tre...</td>\n",
              "      <td>Love</td>\n",
              "    </tr>\n",
              "    <tr>\n",
              "      <th>3142</th>\n",
              "      <td>thee praise river whose white voice pas upon f...</td>\n",
              "      <td>Love</td>\n",
              "    </tr>\n",
              "    <tr>\n",
              "      <th>3143</th>\n",
              "      <td>consider owoman thismy body lainwith empty arm...</td>\n",
              "      <td>Love</td>\n",
              "    </tr>\n",
              "    <tr>\n",
              "      <th>3144</th>\n",
              "      <td>green went love ridingon great horse goldinto ...</td>\n",
              "      <td>Love</td>\n",
              "    </tr>\n",
              "  </tbody>\n",
              "</table>\n",
              "<p>3145 rows × 2 columns</p>\n",
              "</div>"
            ],
            "text/plain": [
              "                                                content    type\n",
              "0     didst thou promise beauteous day make travel f...  Nature\n",
              "1     welcome sun sea freake returned cheereth beam ...  Nature\n",
              "2     met courtier riding plain wellmounted brave ga...  Nature\n",
              "3     walking field wantcatcher spied went desirous ...  Nature\n",
              "4     fishing fisher may protest pleasure sweetest s...  Nature\n",
              "...                                                 ...     ...\n",
              "3140  believein death sureof thisit loved memoon sun...    Love\n",
              "3141  god let body befrom brave eye shall sprout tre...    Love\n",
              "3142  thee praise river whose white voice pas upon f...    Love\n",
              "3143  consider owoman thismy body lainwith empty arm...    Love\n",
              "3144  green went love ridingon great horse goldinto ...    Love\n",
              "\n",
              "[3145 rows x 2 columns]"
            ]
          },
          "metadata": {
            "tags": []
          },
          "execution_count": 365
        }
      ]
    },
    {
      "cell_type": "code",
      "metadata": {
        "colab": {
          "base_uri": "https://localhost:8080/",
          "height": 398
        },
        "id": "tcDYcF-ihwDG",
        "outputId": "0970bdfc-f9c8-4e5e-b40d-2678095ee194"
      },
      "source": [
        "stop_words = stopwords.words('english')\n",
        "df['content'] = df['content'].apply(lambda x: \" \".join(x for x in x.split() if x not in stop_words))\n",
        "df"
      ],
      "execution_count": null,
      "outputs": [
        {
          "output_type": "execute_result",
          "data": {
            "text/html": [
              "<div>\n",
              "<style scoped>\n",
              "    .dataframe tbody tr th:only-of-type {\n",
              "        vertical-align: middle;\n",
              "    }\n",
              "\n",
              "    .dataframe tbody tr th {\n",
              "        vertical-align: top;\n",
              "    }\n",
              "\n",
              "    .dataframe thead th {\n",
              "        text-align: right;\n",
              "    }\n",
              "</style>\n",
              "<table border=\"1\" class=\"dataframe\">\n",
              "  <thead>\n",
              "    <tr style=\"text-align: right;\">\n",
              "      <th></th>\n",
              "      <th>content</th>\n",
              "      <th>type</th>\n",
              "    </tr>\n",
              "  </thead>\n",
              "  <tbody>\n",
              "    <tr>\n",
              "      <th>0</th>\n",
              "      <td>didst thou promise beauteous day make travel f...</td>\n",
              "      <td>Nature</td>\n",
              "    </tr>\n",
              "    <tr>\n",
              "      <th>1</th>\n",
              "      <td>welcome sun sea freake returned cheereth beam ...</td>\n",
              "      <td>Nature</td>\n",
              "    </tr>\n",
              "    <tr>\n",
              "      <th>2</th>\n",
              "      <td>met courtier riding plain wellmounted brave ga...</td>\n",
              "      <td>Nature</td>\n",
              "    </tr>\n",
              "    <tr>\n",
              "      <th>3</th>\n",
              "      <td>walking field wantcatcher spied went desirous ...</td>\n",
              "      <td>Nature</td>\n",
              "    </tr>\n",
              "    <tr>\n",
              "      <th>4</th>\n",
              "      <td>fishing fisher may protest pleasure sweetest s...</td>\n",
              "      <td>Nature</td>\n",
              "    </tr>\n",
              "    <tr>\n",
              "      <th>...</th>\n",
              "      <td>...</td>\n",
              "      <td>...</td>\n",
              "    </tr>\n",
              "    <tr>\n",
              "      <th>3140</th>\n",
              "      <td>believein death sureof thisit loved memoon sun...</td>\n",
              "      <td>Love</td>\n",
              "    </tr>\n",
              "    <tr>\n",
              "      <th>3141</th>\n",
              "      <td>god let body befrom brave eye shall sprout tre...</td>\n",
              "      <td>Love</td>\n",
              "    </tr>\n",
              "    <tr>\n",
              "      <th>3142</th>\n",
              "      <td>thee praise river whose white voice pas upon f...</td>\n",
              "      <td>Love</td>\n",
              "    </tr>\n",
              "    <tr>\n",
              "      <th>3143</th>\n",
              "      <td>consider owoman thismy body lainwith empty arm...</td>\n",
              "      <td>Love</td>\n",
              "    </tr>\n",
              "    <tr>\n",
              "      <th>3144</th>\n",
              "      <td>green went love ridingon great horse goldinto ...</td>\n",
              "      <td>Love</td>\n",
              "    </tr>\n",
              "  </tbody>\n",
              "</table>\n",
              "<p>3145 rows × 2 columns</p>\n",
              "</div>"
            ],
            "text/plain": [
              "                                                content    type\n",
              "0     didst thou promise beauteous day make travel f...  Nature\n",
              "1     welcome sun sea freake returned cheereth beam ...  Nature\n",
              "2     met courtier riding plain wellmounted brave ga...  Nature\n",
              "3     walking field wantcatcher spied went desirous ...  Nature\n",
              "4     fishing fisher may protest pleasure sweetest s...  Nature\n",
              "...                                                 ...     ...\n",
              "3140  believein death sureof thisit loved memoon sun...    Love\n",
              "3141  god let body befrom brave eye shall sprout tre...    Love\n",
              "3142  thee praise river whose white voice pas upon f...    Love\n",
              "3143  consider owoman thismy body lainwith empty arm...    Love\n",
              "3144  green went love ridingon great horse goldinto ...    Love\n",
              "\n",
              "[3145 rows x 2 columns]"
            ]
          },
          "metadata": {
            "tags": []
          },
          "execution_count": 366
        }
      ]
    },
    {
      "cell_type": "code",
      "metadata": {
        "colab": {
          "base_uri": "https://localhost:8080/",
          "height": 398
        },
        "id": "BHwKfreTh2Du",
        "outputId": "677983fb-58b1-4801-f18a-c9cb9288bee2"
      },
      "source": [
        "from nltk.tokenize import word_tokenize\n",
        "df['content'] = df['content'].apply(lambda x: word_tokenize(x))\n",
        "lemmatizer = nltk.stem.WordNetLemmatizer()\n",
        "\n",
        "def lem(text):\n",
        "    modified = \"\"\n",
        "    for w in text:\n",
        "        modified = modified + \" \" +lemmatizer.lemmatize(w)\n",
        "    return modified\n",
        "\n",
        "df['content'] = df['content'].apply(lambda x: lem(x))\n",
        "df"
      ],
      "execution_count": null,
      "outputs": [
        {
          "output_type": "execute_result",
          "data": {
            "text/html": [
              "<div>\n",
              "<style scoped>\n",
              "    .dataframe tbody tr th:only-of-type {\n",
              "        vertical-align: middle;\n",
              "    }\n",
              "\n",
              "    .dataframe tbody tr th {\n",
              "        vertical-align: top;\n",
              "    }\n",
              "\n",
              "    .dataframe thead th {\n",
              "        text-align: right;\n",
              "    }\n",
              "</style>\n",
              "<table border=\"1\" class=\"dataframe\">\n",
              "  <thead>\n",
              "    <tr style=\"text-align: right;\">\n",
              "      <th></th>\n",
              "      <th>content</th>\n",
              "      <th>type</th>\n",
              "    </tr>\n",
              "  </thead>\n",
              "  <tbody>\n",
              "    <tr>\n",
              "      <th>0</th>\n",
              "      <td>didst thou promise beauteous day make travel ...</td>\n",
              "      <td>Nature</td>\n",
              "    </tr>\n",
              "    <tr>\n",
              "      <th>1</th>\n",
              "      <td>welcome sun sea freake returned cheereth beam...</td>\n",
              "      <td>Nature</td>\n",
              "    </tr>\n",
              "    <tr>\n",
              "      <th>2</th>\n",
              "      <td>met courtier riding plain wellmounted brave g...</td>\n",
              "      <td>Nature</td>\n",
              "    </tr>\n",
              "    <tr>\n",
              "      <th>3</th>\n",
              "      <td>walking field wantcatcher spied went desirous...</td>\n",
              "      <td>Nature</td>\n",
              "    </tr>\n",
              "    <tr>\n",
              "      <th>4</th>\n",
              "      <td>fishing fisher may protest pleasure sweetest ...</td>\n",
              "      <td>Nature</td>\n",
              "    </tr>\n",
              "    <tr>\n",
              "      <th>...</th>\n",
              "      <td>...</td>\n",
              "      <td>...</td>\n",
              "    </tr>\n",
              "    <tr>\n",
              "      <th>3140</th>\n",
              "      <td>believein death sureof thisit loved memoon su...</td>\n",
              "      <td>Love</td>\n",
              "    </tr>\n",
              "    <tr>\n",
              "      <th>3141</th>\n",
              "      <td>god let body befrom brave eye shall sprout tr...</td>\n",
              "      <td>Love</td>\n",
              "    </tr>\n",
              "    <tr>\n",
              "      <th>3142</th>\n",
              "      <td>thee praise river whose white voice pa upon f...</td>\n",
              "      <td>Love</td>\n",
              "    </tr>\n",
              "    <tr>\n",
              "      <th>3143</th>\n",
              "      <td>consider owoman thismy body lainwith empty ar...</td>\n",
              "      <td>Love</td>\n",
              "    </tr>\n",
              "    <tr>\n",
              "      <th>3144</th>\n",
              "      <td>green went love ridingon great horse goldinto...</td>\n",
              "      <td>Love</td>\n",
              "    </tr>\n",
              "  </tbody>\n",
              "</table>\n",
              "<p>3145 rows × 2 columns</p>\n",
              "</div>"
            ],
            "text/plain": [
              "                                                content    type\n",
              "0      didst thou promise beauteous day make travel ...  Nature\n",
              "1      welcome sun sea freake returned cheereth beam...  Nature\n",
              "2      met courtier riding plain wellmounted brave g...  Nature\n",
              "3      walking field wantcatcher spied went desirous...  Nature\n",
              "4      fishing fisher may protest pleasure sweetest ...  Nature\n",
              "...                                                 ...     ...\n",
              "3140   believein death sureof thisit loved memoon su...    Love\n",
              "3141   god let body befrom brave eye shall sprout tr...    Love\n",
              "3142   thee praise river whose white voice pa upon f...    Love\n",
              "3143   consider owoman thismy body lainwith empty ar...    Love\n",
              "3144   green went love ridingon great horse goldinto...    Love\n",
              "\n",
              "[3145 rows x 2 columns]"
            ]
          },
          "metadata": {
            "tags": []
          },
          "execution_count": 367
        }
      ]
    },
    {
      "cell_type": "code",
      "metadata": {
        "id": "PLlWtQnasrI4"
      },
      "source": [
        "\n",
        "import tensorflow as tf\n",
        "import numpy as np\n",
        "from tensorflow.keras.preprocessing.text import Tokenizer\n",
        "from tensorflow.keras.preprocessing.sequence import pad_sequences\n",
        "from tensorflow.keras.models import Sequential\n",
        "from tensorflow.keras.layers import Dense, Flatten, LSTM, Dropout, Activation, Embedding, Bidirectional\n"
      ],
      "execution_count": null,
      "outputs": []
    },
    {
      "cell_type": "code",
      "metadata": {
        "id": "we4RNAUqaZV6"
      },
      "source": [
        "MAX_NB_WORDS = 50000\n",
        "MAX_SEQUENCE_LENGTH = 100\n",
        "EMBEDDING_DIM = 150"
      ],
      "execution_count": null,
      "outputs": []
    },
    {
      "cell_type": "code",
      "metadata": {
        "colab": {
          "base_uri": "https://localhost:8080/"
        },
        "id": "tcRSsinbahwA",
        "outputId": "9af9ba7f-090d-4770-ac3a-ffe313bbfdc1"
      },
      "source": [
        "labels = df['type']\n",
        "labels"
      ],
      "execution_count": null,
      "outputs": [
        {
          "output_type": "execute_result",
          "data": {
            "text/plain": [
              "0       Nature\n",
              "1       Nature\n",
              "2       Nature\n",
              "3       Nature\n",
              "4       Nature\n",
              "         ...  \n",
              "3140      Love\n",
              "3141      Love\n",
              "3142      Love\n",
              "3143      Love\n",
              "3144      Love\n",
              "Name: type, Length: 3145, dtype: object"
            ]
          },
          "metadata": {
            "tags": []
          },
          "execution_count": 370
        }
      ]
    },
    {
      "cell_type": "code",
      "metadata": {
        "id": "wKCrlg9nchkW"
      },
      "source": [
        "all_data = df['content']"
      ],
      "execution_count": null,
      "outputs": []
    },
    {
      "cell_type": "code",
      "metadata": {
        "colab": {
          "base_uri": "https://localhost:8080/"
        },
        "id": "ofpdm__Sao4_",
        "outputId": "a41166e7-d3a1-457d-bb10-bd6777c4c16c"
      },
      "source": [
        "labels=np.array(labels)\n",
        "labels"
      ],
      "execution_count": null,
      "outputs": [
        {
          "output_type": "execute_result",
          "data": {
            "text/plain": [
              "array(['Nature', 'Nature', 'Nature', ..., 'Love', 'Love', 'Love'],\n",
              "      dtype=object)"
            ]
          },
          "metadata": {
            "tags": []
          },
          "execution_count": 372
        }
      ]
    },
    {
      "cell_type": "code",
      "metadata": {
        "id": "XOWfdSveaw8I"
      },
      "source": [
        "from sklearn.preprocessing import LabelEncoder"
      ],
      "execution_count": null,
      "outputs": []
    },
    {
      "cell_type": "code",
      "metadata": {
        "colab": {
          "base_uri": "https://localhost:8080/"
        },
        "id": "sGS8ZndccA7C",
        "outputId": "cf78fc39-9357-46d5-d0e2-b4fb8217380c"
      },
      "source": [
        "le = LabelEncoder()\n",
        "Y = le.fit_transform(labels)\n",
        "Y"
      ],
      "execution_count": null,
      "outputs": [
        {
          "output_type": "execute_result",
          "data": {
            "text/plain": [
              "array([2, 2, 2, ..., 1, 1, 1])"
            ]
          },
          "metadata": {
            "tags": []
          },
          "execution_count": 374
        }
      ]
    },
    {
      "cell_type": "code",
      "metadata": {
        "colab": {
          "base_uri": "https://localhost:8080/"
        },
        "id": "TIh_OlA_cUFO",
        "outputId": "5f09502f-e7b3-40a9-bea9-26ac0d686d5a"
      },
      "source": [
        "tokenizer = Tokenizer(num_words=MAX_NB_WORDS, filters='!\"#$%&()*+,-./:;<=>?@[\\]^_`{|}~', lower=True)\n",
        "tokenizer.fit_on_texts(all_data)\n",
        "sequences = tokenizer.texts_to_sequences(all_data)\n",
        "word_index = tokenizer.word_index\n",
        "features = pad_sequences(sequences, maxlen=MAX_SEQUENCE_LENGTH)\n",
        "print(len(word_index))"
      ],
      "execution_count": null,
      "outputs": [
        {
          "output_type": "stream",
          "text": [
            "30662\n"
          ],
          "name": "stdout"
        }
      ]
    },
    {
      "cell_type": "code",
      "metadata": {
        "id": "Q3DHPbp4cuTm"
      },
      "source": [
        "Y = to_categorical(Y)"
      ],
      "execution_count": null,
      "outputs": []
    },
    {
      "cell_type": "code",
      "metadata": {
        "colab": {
          "base_uri": "https://localhost:8080/"
        },
        "id": "EiPeVQJPmAx1",
        "outputId": "3f4384fe-33fa-4b7c-871f-0744db1e959f"
      },
      "source": [
        "Y"
      ],
      "execution_count": null,
      "outputs": [
        {
          "output_type": "execute_result",
          "data": {
            "text/plain": [
              "array([[0., 0., 1.],\n",
              "       [0., 0., 1.],\n",
              "       [0., 0., 1.],\n",
              "       ...,\n",
              "       [0., 1., 0.],\n",
              "       [0., 1., 0.],\n",
              "       [0., 1., 0.]], dtype=float32)"
            ]
          },
          "metadata": {
            "tags": []
          },
          "execution_count": 377
        }
      ]
    },
    {
      "cell_type": "code",
      "metadata": {
        "colab": {
          "base_uri": "https://localhost:8080/"
        },
        "id": "Qnup1Hpjc4r-",
        "outputId": "32e9fb77-34a0-4f39-f068-28aca77f5813"
      },
      "source": [
        "X_train, X_test, Y_train, Y_test = train_test_split(features,Y, test_size = 0.10, random_state = 42)\n",
        "print(X_train.shape,Y_train.shape)\n",
        "print(X_test.shape,Y_test.shape)"
      ],
      "execution_count": null,
      "outputs": [
        {
          "output_type": "stream",
          "text": [
            "(2830, 100) (2830, 3)\n",
            "(315, 100) (315, 3)\n"
          ],
          "name": "stdout"
        }
      ]
    },
    {
      "cell_type": "code",
      "metadata": {
        "colab": {
          "base_uri": "https://localhost:8080/"
        },
        "id": "apEY2nTCc-CZ",
        "outputId": "a0f8f315-1585-4741-fb06-beb1316d99dd"
      },
      "source": [
        "model = Sequential()\n",
        "model.add(Embedding(MAX_NB_WORDS, EMBEDDING_DIM, input_length=features.shape[1]))\n",
        "model.add(SpatialDropout1D(0.2))\n",
        "model.add(LSTM(100, dropout=0.2, recurrent_dropout=0.2))\n",
        "model.add(Dense(3, activation='softmax'))\n",
        "model.compile(loss='categorical_crossentropy', optimizer='adam', metrics=['accuracy'])\n",
        "print(model.summary())\n",
        "\n",
        "epochs = 10\n",
        "batch_size = 64\n",
        "\n",
        "checkpoint = ModelCheckpoint('weights.{epoch:03d}-{accuracy:.4f}.hdf5', monitor='accuracy', verbose=1, save_best_only=True, mode='auto')\n",
        "model.fit(X_train, Y_train, epochs=epochs, batch_size=batch_size, verbose=1, callbacks=[checkpoint], validation_data=(X_test, Y_test))"
      ],
      "execution_count": null,
      "outputs": [
        {
          "output_type": "stream",
          "text": [
            "Model: \"sequential_11\"\n",
            "_________________________________________________________________\n",
            "Layer (type)                 Output Shape              Param #   \n",
            "=================================================================\n",
            "embedding_12 (Embedding)     (None, 100, 150)          7500000   \n",
            "_________________________________________________________________\n",
            "spatial_dropout1d_6 (Spatial (None, 100, 150)          0         \n",
            "_________________________________________________________________\n",
            "lstm_12 (LSTM)               (None, 100)               100400    \n",
            "_________________________________________________________________\n",
            "dense_11 (Dense)             (None, 3)                 303       \n",
            "=================================================================\n",
            "Total params: 7,600,703\n",
            "Trainable params: 7,600,703\n",
            "Non-trainable params: 0\n",
            "_________________________________________________________________\n",
            "None\n",
            "Epoch 1/10\n",
            "45/45 [==============================] - 22s 419ms/step - loss: 1.0645 - accuracy: 0.4052 - val_loss: 0.9233 - val_accuracy: 0.6032\n",
            "\n",
            "Epoch 00001: accuracy improved from -inf to 0.44382, saving model to weights.001-0.4438.hdf5\n",
            "Epoch 2/10\n",
            "45/45 [==============================] - 18s 409ms/step - loss: 0.8346 - accuracy: 0.6277 - val_loss: 0.7878 - val_accuracy: 0.6603\n",
            "\n",
            "Epoch 00002: accuracy improved from 0.44382 to 0.66184, saving model to weights.002-0.6618.hdf5\n",
            "Epoch 3/10\n",
            "45/45 [==============================] - 18s 409ms/step - loss: 0.4030 - accuracy: 0.8626 - val_loss: 0.8558 - val_accuracy: 0.6667\n",
            "\n",
            "Epoch 00003: accuracy improved from 0.66184 to 0.85406, saving model to weights.003-0.8541.hdf5\n",
            "Epoch 4/10\n",
            "45/45 [==============================] - 18s 409ms/step - loss: 0.2546 - accuracy: 0.9100 - val_loss: 0.9433 - val_accuracy: 0.6571\n",
            "\n",
            "Epoch 00004: accuracy improved from 0.85406 to 0.90071, saving model to weights.004-0.9007.hdf5\n",
            "Epoch 5/10\n",
            "45/45 [==============================] - 18s 406ms/step - loss: 0.2043 - accuracy: 0.9208 - val_loss: 0.9430 - val_accuracy: 0.6540\n",
            "\n",
            "Epoch 00005: accuracy improved from 0.90071 to 0.91449, saving model to weights.005-0.9145.hdf5\n",
            "Epoch 6/10\n",
            "45/45 [==============================] - 18s 407ms/step - loss: 0.1636 - accuracy: 0.9332 - val_loss: 0.9243 - val_accuracy: 0.6635\n",
            "\n",
            "Epoch 00006: accuracy improved from 0.91449 to 0.92226, saving model to weights.006-0.9223.hdf5\n",
            "Epoch 7/10\n",
            "45/45 [==============================] - 18s 407ms/step - loss: 0.1480 - accuracy: 0.9394 - val_loss: 1.0297 - val_accuracy: 0.6381\n",
            "\n",
            "Epoch 00007: accuracy improved from 0.92226 to 0.92756, saving model to weights.007-0.9276.hdf5\n",
            "Epoch 8/10\n",
            "45/45 [==============================] - 19s 412ms/step - loss: 0.1211 - accuracy: 0.9486 - val_loss: 0.9780 - val_accuracy: 0.6540\n",
            "\n",
            "Epoch 00008: accuracy improved from 0.92756 to 0.93604, saving model to weights.008-0.9360.hdf5\n",
            "Epoch 9/10\n",
            "45/45 [==============================] - 18s 410ms/step - loss: 0.1316 - accuracy: 0.9421 - val_loss: 1.1880 - val_accuracy: 0.6286\n",
            "\n",
            "Epoch 00009: accuracy improved from 0.93604 to 0.93640, saving model to weights.009-0.9364.hdf5\n",
            "Epoch 10/10\n",
            "45/45 [==============================] - 18s 408ms/step - loss: 0.1179 - accuracy: 0.9456 - val_loss: 1.0654 - val_accuracy: 0.6381\n",
            "\n",
            "Epoch 00010: accuracy improved from 0.93640 to 0.93852, saving model to weights.010-0.9385.hdf5\n"
          ],
          "name": "stdout"
        },
        {
          "output_type": "execute_result",
          "data": {
            "text/plain": [
              "<tensorflow.python.keras.callbacks.History at 0x7fd8fbe7cb50>"
            ]
          },
          "metadata": {
            "tags": []
          },
          "execution_count": 394
        }
      ]
    },
    {
      "cell_type": "code",
      "metadata": {
        "colab": {
          "base_uri": "https://localhost:8080/"
        },
        "id": "s-vDwdGIsp1Q",
        "outputId": "59bd4b30-dbcd-469e-dd5e-83f80fb1eab8"
      },
      "source": [
        "score = model.evaluate( X_test, Y_test)\n",
        "score"
      ],
      "execution_count": null,
      "outputs": [
        {
          "output_type": "stream",
          "text": [
            "10/10 [==============================] - 0s 35ms/step - loss: 1.0654 - accuracy: 0.6381\n"
          ],
          "name": "stdout"
        },
        {
          "output_type": "execute_result",
          "data": {
            "text/plain": [
              "[1.0653668642044067, 0.6380952596664429]"
            ]
          },
          "metadata": {
            "tags": []
          },
          "execution_count": 398
        }
      ]
    },
    {
      "cell_type": "code",
      "metadata": {
        "colab": {
          "base_uri": "https://localhost:8080/",
          "height": 533
        },
        "id": "4LmhehpEst6W",
        "outputId": "07e1d157-99c3-4670-8e2e-768086efcf42"
      },
      "source": [
        "import keras\n",
        "keras.utils.plot_model(model, 'multi_input_and_output_model.png', show_shapes=True)"
      ],
      "execution_count": null,
      "outputs": [
        {
          "output_type": "execute_result",
          "data": {
            "image/png": "[encoded data removed]",
            "text/plain": [
              "<IPython.core.display.Image object>"
            ]
          },
          "metadata": {
            "tags": []
          },
          "execution_count": 400
        }
      ]
    },
    {
      "cell_type": "code",
      "metadata": {
        "id": "hiaop4UTtdsB"
      },
      "source": [
        "import pickle\n",
        "\n",
        "# saving\n",
        "with open('tokenizer.pickle', 'wb') as handle:\n",
        "    pickle.dump(tokenizer, handle, protocol=pickle.HIGHEST_PROTOCOL)"
      ],
      "execution_count": null,
      "outputs": []
    },
    {
      "cell_type": "code",
      "metadata": {
        "id": "VZbgXPwltml5"
      },
      "source": [
        "model.save(\"model_lstm.h5\")"
      ],
      "execution_count": null,
      "outputs": []
    },
    {
      "cell_type": "code",
      "metadata": {
        "colab": {
          "base_uri": "https://localhost:8080/"
        },
        "id": "twOdc6DPtqlC",
        "outputId": "c26024ad-2c32-4bc6-92bf-46acd8a41f0f"
      },
      "source": [
        "from google.colab import drive\n",
        "drive.mount('drive')"
      ],
      "execution_count": null,
      "outputs": [
        {
          "output_type": "stream",
          "text": [
            "Drive already mounted at drive; to attempt to forcibly remount, call drive.mount(\"drive\", force_remount=True).\n"
          ],
          "name": "stdout"
        }
      ]
    },
    {
      "cell_type": "code",
      "metadata": {
        "id": "E5KbDm3ivZa9"
      },
      "source": [
        "!cp model_lstm.h5 \"drive/My Drive/\""
      ],
      "execution_count": null,
      "outputs": []
    },
    {
      "cell_type": "code",
      "metadata": {
        "id": "YnUugUVCvfuc"
      },
      "source": [
        "!cp tokenizer.pickle \"drive/My Drive/\""
      ],
      "execution_count": null,
      "outputs": []
    },
    {
      "cell_type": "code",
      "metadata": {
        "id": "EMffw45ge5QS"
      },
      "source": [
        "import re\n",
        "def remove_punctuation(line):\n",
        "    line = str(line)\n",
        "    if line.strip()=='':\n",
        "        return ''\n",
        "    rule = re.compile(u\"[^a-zA-Z0-9\\u4E00-\\u9FA5]\")\n",
        "    line = rule.sub('',line)\n",
        "    return line"
      ],
      "execution_count": null,
      "outputs": []
    },
    {
      "cell_type": "code",
      "metadata": {
        "id": "DnAGbIKgdj10"
      },
      "source": [
        "def predict(text):\n",
        "    txt = remove_punctuation(text)\n",
        "    seq = tokenizer.texts_to_sequences(txt)\n",
        "    padded = pad_sequences(seq, maxlen=MAX_SEQUENCE_LENGTH)\n",
        "    pred = model.predict(padded)\n",
        "    print(pred[0])\n",
        "    cat_id= pred.argmax(axis=1)[0]\n",
        "    print(cat_id)\n",
        "    if cat_id == 0:\n",
        "        cat = 'Death'\n",
        "    elif cat_id ==1:\n",
        "        cat = 'Love'\n",
        "    elif cat_id ==2:\n",
        "        cat = 'Nature'\n",
        "    return cat"
      ],
      "execution_count": null,
      "outputs": []
    }
  ]
}